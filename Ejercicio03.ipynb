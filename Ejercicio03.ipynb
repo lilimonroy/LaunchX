{
 "cells": [
  {
   "cell_type": "markdown",
   "metadata": {},
   "source": [
    "# First Program #\n",
    "\n",
    "Create a program that display today's date."
   ]
  },
  {
   "cell_type": "code",
   "execution_count": 15,
   "metadata": {},
   "outputs": [
    {
     "name": "stdout",
     "output_type": "stream",
     "text": [
      "Today's date: 2022-02-06\n"
     ]
    }
   ],
   "source": [
    "from datetime import date\n",
    "\n",
    "today = date.today()\n",
    "print(\"Today's date:\", today)"
   ]
  },
  {
   "cell_type": "markdown",
   "metadata": {},
   "source": [
    "# Construir un convertidor de unidades #\n",
    "\n",
    "Create a program that build a unit converter.\n",
    "With variable initialized parsec = 11."
   ]
  },
  {
   "cell_type": "code",
   "execution_count": 16,
   "metadata": {},
   "outputs": [
    {
     "name": "stdout",
     "output_type": "stream",
     "text": [
      "The conversion of 11 parsec to light-year is 35.877159999999996\n"
     ]
    }
   ],
   "source": [
    "light_year =  3.26156 # A parsec = 3.26156 light-years\n",
    "parsec = 11 # Wanna know - User\n",
    "\n",
    "conv = parsec * light_year\n",
    "\n",
    "print(\"The conversion of 11 parsec to light-year is\", conv)"
   ]
  }
 ],
 "metadata": {
  "interpreter": {
   "hash": "5a51e51b27a1d679079fef0564af7ea930419d5b535aad765b44a8f5ae3c36e7"
  },
  "kernelspec": {
   "display_name": "Python 3.10.1 64-bit",
   "language": "python",
   "name": "python3"
  },
  "language_info": {
   "codemirror_mode": {
    "name": "ipython",
    "version": 3
   },
   "file_extension": ".py",
   "mimetype": "text/x-python",
   "name": "python",
   "nbconvert_exporter": "python",
   "pygments_lexer": "ipython3",
   "version": "3.10.1"
  },
  "orig_nbformat": 4
 },
 "nbformat": 4,
 "nbformat_minor": 2
}
